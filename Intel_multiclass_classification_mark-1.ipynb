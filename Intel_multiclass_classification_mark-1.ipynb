{
 "cells": [
  {
   "cell_type": "code",
   "execution_count": 1,
   "id": "80868eca",
   "metadata": {},
   "outputs": [],
   "source": [
    "import tensorflow as tf\n",
    "import os\n",
    "import random\n",
    "import shutil\n",
    "from tensorflow.keras.optimizers import RMSprop\n",
    "from tensorflow.keras.preprocessing.image import ImageDataGenerator\n",
    "from shutil import copyfile\n",
    "from os import getcwd\n",
    "import matplotlib.image as mpimg\n",
    "import matplotlib.pyplot as plt\n",
    "import matplotlib.image as mpimg\n",
    "import matplotlib.pyplot as plt\n",
    "from tensorflow.keras.applications.inception_v3 import InceptionV3\n",
    "from tensorflow.keras import layers\n",
    "from tensorflow.keras import Model\n",
    "from tensorflow.keras.preprocessing.image import ImageDataGenerator\n",
    "from tensorflow.keras import layers\n",
    "from tensorflow.keras import Model\n",
    "from tensorflow.keras.applications.inception_v3 import InceptionV3\n",
    "from tensorflow.keras.optimizers import RMSprop\n",
    "from shutil import copyfile\n",
    "import urllib.request\n",
    "\n"
   ]
  },
  {
   "cell_type": "code",
   "execution_count": 2,
   "id": "c3148f65",
   "metadata": {},
   "outputs": [],
   "source": [
    "nrows = 4\n",
    "ncols = 4\n",
    "\n",
    "pic_index = 0 # Index for iterating over images"
   ]
  },
  {
   "cell_type": "code",
   "execution_count": 3,
   "id": "25a7b2ec",
   "metadata": {},
   "outputs": [
    {
     "name": "stdout",
     "output_type": "stream",
     "text": [
      "Found 14034 images belonging to 6 classes.\n"
     ]
    }
   ],
   "source": [
    "train_dir=\"seg_train/seg_train\"\n",
    "#print(len(os.listdir(train_dir)))\n",
    "train_datagen=ImageDataGenerator(rescale=1.0/255,\n",
    "                                rotation_range=40,\n",
    "                                width_shift_range=0.2,\n",
    "                                height_shift_range=0.2,\n",
    "                                shear_range=0.2,\n",
    "                                zoom_range=0.2,\n",
    "                                horizontal_flip=True,\n",
    "                                fill_mode='nearest')\n",
    "train_generator=train_datagen.flow_from_directory(train_dir,\n",
    "                                                 batch_size=10,\n",
    "                                                 class_mode='binary',\n",
    "                                                 target_size=(224,224))\n"
   ]
  },
  {
   "cell_type": "code",
   "execution_count": 4,
   "id": "edee8f7d",
   "metadata": {},
   "outputs": [
    {
     "name": "stdout",
     "output_type": "stream",
     "text": [
      "Found 3000 images belonging to 6 classes.\n"
     ]
    }
   ],
   "source": [
    "test_dir=\"seg_test/seg_test\"\n",
    "#print(len(os.listdir(test_dir)))\n",
    "test_datagen=ImageDataGenerator(rescale=1.0/255.)\n",
    "test_generator=test_datagen.flow_from_directory(test_dir,\n",
    "                                                 batch_size=10,\n",
    "                                                 class_mode='binary',\n",
    "                                                 target_size=(224,224))"
   ]
  },
  {
   "cell_type": "code",
   "execution_count": 5,
   "id": "0e86ac23",
   "metadata": {},
   "outputs": [
    {
     "name": "stdout",
     "output_type": "stream",
     "text": [
      "Found 0 images belonging to 0 classes.\n"
     ]
    }
   ],
   "source": [
    "pred_dir=\"seg_pred/seg_pred\"\n",
    "#print(len(os.listdir(test_dir)))\n",
    "pred_datagen=ImageDataGenerator(rescale=1.0/255.)\n",
    "pred_generator=pred_datagen.flow_from_directory(pred_dir,\n",
    "                                                 batch_size=10,\n",
    "                                                 class_mode='binary',\n",
    "                                                 target_size=(150,150))"
   ]
  },
  {
   "cell_type": "code",
   "execution_count": 6,
   "id": "4388dd88",
   "metadata": {},
   "outputs": [],
   "source": [
    "#@title Visualization Utilities[RUN ME]\n",
    "#Matplotlib config\n",
    "plt.rc('image', cmap='gray')\n",
    "plt.rc('grid', linewidth=0)\n",
    "plt.rc('xtick', top=False, bottom=False, labelsize='large')\n",
    "plt.rc('ytick', left=False, right=False, labelsize='large')\n",
    "plt.rc('axes', facecolor='F8F8F8', titlesize=\"large\", edgecolor='white')\n",
    "plt.rc('text', color='a8151a')\n",
    "plt.rc('figure', facecolor='F0F0F0')# Matplotlib fonts\n",
    "MATPLOTLIB_FONT_DIR = os.path.join(os.path.dirname(plt.__file__), \"mpl-data/fonts/ttf\")\n",
    "# utility to display a row of digits with their predictions\n",
    "def display_images(digits, predictions, labels, title):\n",
    "\n",
    "  n = 10\n",
    "\n",
    "  indexes = np.random.choice(len(predictions), size=n)\n",
    "  n_digits = digits[indexes]\n",
    "  n_predictions = predictions[indexes]\n",
    "  n_predictions = n_predictions.reshape((n,))\n",
    "  n_labels = labels[indexes]\n",
    " \n",
    "  fig = plt.figure(figsize=(20, 4))\n",
    "  plt.title(title)\n",
    "  plt.yticks([])\n",
    "  plt.xticks([])\n",
    "\n",
    "  for i in range(10):\n",
    "    ax = fig.add_subplot(1, 10, i+1)\n",
    "    class_index = n_predictions[i]\n",
    "    \n",
    "    plt.xlabel(classes[class_index])\n",
    "    plt.xticks([])\n",
    "    plt.yticks([])\n",
    "    plt.imshow(n_digits[i])\n",
    "\n",
    "# utility to display training and validation curves\n",
    "def plot_metrics(metric_name, title, ylim=5):\n",
    "  plt.title(title)\n",
    "  plt.ylim(0,ylim)\n",
    "  plt.plot(history.history[metric_name],color='blue',label=metric_name)\n",
    "  plt.plot(history.history['val_' + metric_name],color='green',label='val_' + metric_name)"
   ]
  },
  {
   "cell_type": "code",
   "execution_count": 7,
   "id": "407053af",
   "metadata": {},
   "outputs": [],
   "source": [
    "def preprocess_image_input(input_images):\n",
    "  input_images = input_images.astype('float32')\n",
    "  output_ims = tf.keras.applications.resnet50.preprocess_input(input_images)\n",
    "  return output_ims\n"
   ]
  },
  {
   "cell_type": "code",
   "execution_count": 8,
   "id": "9266eb37",
   "metadata": {},
   "outputs": [],
   "source": [
    "def feature_extractor(inputs):\n",
    "\n",
    "  feature_extractor = tf.keras.applications.resnet.ResNet50(input_shape=(224, 224, 3),\n",
    "                                               include_top=False,\n",
    "                                               weights='imagenet')(inputs)\n",
    "  return feature_extractor"
   ]
  },
  {
   "cell_type": "code",
   "execution_count": 9,
   "id": "18d129f8",
   "metadata": {},
   "outputs": [],
   "source": [
    "def classifier(inputs):\n",
    "    x = tf.keras.layers.GlobalAveragePooling2D()(inputs)\n",
    "    x = tf.keras.layers.Flatten()(x)\n",
    "    x = tf.keras.layers.Dense(1024, activation=\"relu\")(x)\n",
    "    x = tf.keras.layers.Dense(512, activation=\"relu\")(x)\n",
    "    x = tf.keras.layers.Dense(6, activation=\"softmax\", name=\"classification\")(x)\n",
    "    return x"
   ]
  },
  {
   "cell_type": "code",
   "execution_count": 10,
   "id": "0f61e990",
   "metadata": {},
   "outputs": [],
   "source": [
    "def final_model(inputs):\n",
    "\n",
    "    #resize = tf.keras.layers.UpSampling2D(size=(7,7))(inputs)\n",
    "\n",
    "    resnet_feature_extractor = feature_extractor(inputs)\n",
    "    classification_output = classifier(resnet_feature_extractor)\n",
    "\n",
    "    return classification_output"
   ]
  },
  {
   "cell_type": "code",
   "execution_count": 11,
   "id": "d748b302",
   "metadata": {},
   "outputs": [],
   "source": [
    "def define_compile_model():\n",
    "  inputs = tf.keras.layers.Input(shape=(224,224,3))\n",
    "  \n",
    "  classification_output = final_model(inputs) \n",
    "  model = tf.keras.Model(inputs=inputs, outputs = classification_output)\n",
    " \n",
    "  model.compile(optimizer='SGD', \n",
    "                loss='sparse_categorical_crossentropy',\n",
    "                metrics = ['accuracy'])\n",
    "  \n",
    "  return model"
   ]
  },
  {
   "cell_type": "code",
   "execution_count": 12,
   "id": "96000140",
   "metadata": {},
   "outputs": [],
   "source": [
    "model = define_compile_model()\n"
   ]
  },
  {
   "cell_type": "code",
   "execution_count": 13,
   "id": "18eae415",
   "metadata": {},
   "outputs": [
    {
     "name": "stdout",
     "output_type": "stream",
     "text": [
      "Model: \"model\"\n",
      "_________________________________________________________________\n",
      "Layer (type)                 Output Shape              Param #   \n",
      "=================================================================\n",
      "input_1 (InputLayer)         [(None, 224, 224, 3)]     0         \n",
      "_________________________________________________________________\n",
      "resnet50 (Functional)        (None, 7, 7, 2048)        23587712  \n",
      "_________________________________________________________________\n",
      "global_average_pooling2d (Gl (None, 2048)              0         \n",
      "_________________________________________________________________\n",
      "flatten (Flatten)            (None, 2048)              0         \n",
      "_________________________________________________________________\n",
      "dense (Dense)                (None, 1024)              2098176   \n",
      "_________________________________________________________________\n",
      "dense_1 (Dense)              (None, 512)               524800    \n",
      "_________________________________________________________________\n",
      "classification (Dense)       (None, 6)                 3078      \n",
      "=================================================================\n",
      "Total params: 26,213,766\n",
      "Trainable params: 26,160,646\n",
      "Non-trainable params: 53,120\n",
      "_________________________________________________________________\n"
     ]
    }
   ],
   "source": [
    "model.summary()"
   ]
  },
  {
   "cell_type": "code",
   "execution_count": null,
   "id": "a13e5747",
   "metadata": {},
   "outputs": [
    {
     "name": "stdout",
     "output_type": "stream",
     "text": [
      "Epoch 1/10\n",
      "1404/1404 [==============================] - 9920s 7s/step - loss: 0.4610 - accuracy: 0.8295 - val_loss: 0.3505 - val_accuracy: 0.8837\n",
      "Epoch 2/10\n",
      "1404/1404 [==============================] - 10171s 7s/step - loss: 0.3056 - accuracy: 0.8897 - val_loss: 0.2363 - val_accuracy: 0.9133\n",
      "Epoch 3/10\n",
      "1404/1404 [==============================] - 9471s 7s/step - loss: 0.2524 - accuracy: 0.9078 - val_loss: 0.2431 - val_accuracy: 0.9120\n",
      "Epoch 4/10\n",
      "1404/1404 [==============================] - 9011s 6s/step - loss: 0.2265 - accuracy: 0.9189 - val_loss: 0.3734 - val_accuracy: 0.8877\n",
      "Epoch 5/10\n",
      " 290/1404 [=====>........................] - ETA: 1:37:29 - loss: 0.2051 - accuracy: 0.9286"
     ]
    }
   ],
   "source": [
    "model.fit(train_generator,validation_data=test_generator,epochs=10)"
   ]
  }
 ],
 "metadata": {
  "kernelspec": {
   "display_name": "Python 3 (ipykernel)",
   "language": "python",
   "name": "python3"
  },
  "language_info": {
   "codemirror_mode": {
    "name": "ipython",
    "version": 3
   },
   "file_extension": ".py",
   "mimetype": "text/x-python",
   "name": "python",
   "nbconvert_exporter": "python",
   "pygments_lexer": "ipython3",
   "version": "3.9.6"
  }
 },
 "nbformat": 4,
 "nbformat_minor": 5
}
