{
 "cells": [
  {
   "cell_type": "code",
   "execution_count": 1,
   "id": "4ac10390",
   "metadata": {},
   "outputs": [],
   "source": [
    "import tensorflow as tf\n",
    "import os\n",
    "import random\n",
    "import shutil\n",
    "from tensorflow.keras.optimizers import RMSprop\n",
    "from tensorflow.keras.preprocessing.image import ImageDataGenerator\n",
    "from shutil import copyfile\n",
    "from os import getcwd\n",
    "import matplotlib.image as mpimg\n",
    "import matplotlib.pyplot as plt\n",
    "import matplotlib.image as mpimg\n",
    "import matplotlib.pyplot as plt\n",
    "from tensorflow.keras.applications.inception_v3 import InceptionV3\n",
    "from tensorflow.keras import layers\n",
    "from tensorflow.keras import Model\n",
    "from tensorflow.keras.preprocessing.image import ImageDataGenerator\n",
    "from tensorflow.keras import layers\n",
    "from tensorflow.keras import Model\n",
    "from tensorflow.keras.applications.inception_v3 import InceptionV3\n",
    "from tensorflow.keras.optimizers import RMSprop\n",
    "from shutil import copyfile\n",
    "import urllib.request\n",
    "\n"
   ]
  },
  {
   "cell_type": "code",
   "execution_count": 4,
   "id": "065d94db",
   "metadata": {},
   "outputs": [
    {
     "name": "stdout",
     "output_type": "stream",
     "text": [
      "Found 512 files belonging to 10 classes.\n"
     ]
    }
   ],
   "source": [
    "data_dir='Bmw10_ims'\n",
    "data_ds=tf.keras.preprocessing.image_dataset_from_directory(data_dir,image_size=(224,224))"
   ]
  },
  {
   "cell_type": "code",
   "execution_count": 5,
   "id": "4666613e",
   "metadata": {},
   "outputs": [],
   "source": [
    "def preprocess_image_input(input_images):\n",
    "  input_images = input_images.astype('float32')\n",
    "  output_ims = tf.keras.applications.resnet50.preprocess_input(input_images)\n",
    "  return output_ims\n"
   ]
  },
  {
   "cell_type": "code",
   "execution_count": 6,
   "id": "f0ce4d40",
   "metadata": {},
   "outputs": [],
   "source": [
    "def feature_extractor(inputs):\n",
    "\n",
    "  feature_extractor = tf.keras.applications.resnet.ResNet50(input_shape=(224, 224, 3),\n",
    "                                               include_top=False,\n",
    "                                               weights='imagenet')(inputs)\n",
    "  return feature_extractor"
   ]
  },
  {
   "cell_type": "code",
   "execution_count": 11,
   "id": "cbd02f1d",
   "metadata": {},
   "outputs": [],
   "source": [
    "def classifier(inputs):\n",
    "    x = tf.keras.layers.GlobalAveragePooling2D()(inputs)\n",
    "    x = tf.keras.layers.Flatten()(x)\n",
    "    x = tf.keras.layers.Dense(1024, activation=\"relu\")(x)\n",
    "    x = tf.keras.layers.Dense(512, activation=\"relu\")(x)\n",
    "    x = tf.keras.layers.Dense(10, activation=\"softmax\", name=\"classification\")(x)\n",
    "    return x"
   ]
  },
  {
   "cell_type": "code",
   "execution_count": 12,
   "id": "4a36d06c",
   "metadata": {},
   "outputs": [],
   "source": [
    "def final_model(inputs):\n",
    "\n",
    "    #resize = tf.keras.layers.UpSampling2D(size=(7,7))(inputs)\n",
    "\n",
    "    resnet_feature_extractor = feature_extractor(inputs)\n",
    "    classification_output = classifier(resnet_feature_extractor)\n",
    "\n",
    "    return classification_output"
   ]
  },
  {
   "cell_type": "code",
   "execution_count": 13,
   "id": "017ff836",
   "metadata": {},
   "outputs": [],
   "source": [
    "def define_compile_model():\n",
    "  inputs = tf.keras.layers.Input(shape=(224,224,3))\n",
    "  \n",
    "  classification_output = final_model(inputs) \n",
    "  model = tf.keras.Model(inputs=inputs, outputs = classification_output)\n",
    " \n",
    "  model.compile(optimizer='SGD', \n",
    "                loss='sparse_categorical_crossentropy',\n",
    "                metrics = ['accuracy'])\n",
    "  \n",
    "  return model"
   ]
  },
  {
   "cell_type": "code",
   "execution_count": 14,
   "id": "21c68681",
   "metadata": {},
   "outputs": [],
   "source": [
    "model = define_compile_model()\n"
   ]
  },
  {
   "cell_type": "code",
   "execution_count": 15,
   "id": "41fe4073",
   "metadata": {},
   "outputs": [
    {
     "name": "stdout",
     "output_type": "stream",
     "text": [
      "Model: \"model_1\"\n",
      "_________________________________________________________________\n",
      "Layer (type)                 Output Shape              Param #   \n",
      "=================================================================\n",
      "input_3 (InputLayer)         [(None, 224, 224, 3)]     0         \n",
      "_________________________________________________________________\n",
      "resnet50 (Functional)        (None, 7, 7, 2048)        23587712  \n",
      "_________________________________________________________________\n",
      "global_average_pooling2d_1 ( (None, 2048)              0         \n",
      "_________________________________________________________________\n",
      "flatten_1 (Flatten)          (None, 2048)              0         \n",
      "_________________________________________________________________\n",
      "dense_2 (Dense)              (None, 1024)              2098176   \n",
      "_________________________________________________________________\n",
      "dense_3 (Dense)              (None, 512)               524800    \n",
      "_________________________________________________________________\n",
      "classification (Dense)       (None, 10)                5130      \n",
      "=================================================================\n",
      "Total params: 26,215,818\n",
      "Trainable params: 26,162,698\n",
      "Non-trainable params: 53,120\n",
      "_________________________________________________________________\n"
     ]
    }
   ],
   "source": [
    "model.summary()"
   ]
  },
  {
   "cell_type": "code",
   "execution_count": 17,
   "id": "774ef10c",
   "metadata": {},
   "outputs": [
    {
     "name": "stdout",
     "output_type": "stream",
     "text": [
      "Epoch 1/30\n",
      "16/16 [==============================] - 249s 16s/step - loss: 2.0065 - accuracy: 0.3672\n",
      "Epoch 2/30\n",
      "16/16 [==============================] - 265s 17s/step - loss: 1.4495 - accuracy: 0.7559\n",
      "Epoch 3/30\n",
      "16/16 [==============================] - 265s 16s/step - loss: 0.9698 - accuracy: 0.9336\n",
      "Epoch 4/30\n",
      "16/16 [==============================] - 258s 16s/step - loss: 0.6011 - accuracy: 0.9883\n",
      "Epoch 5/30\n",
      "16/16 [==============================] - 272s 17s/step - loss: 0.3479 - accuracy: 1.0000\n",
      "Epoch 6/30\n",
      "16/16 [==============================] - 279s 17s/step - loss: 0.2107 - accuracy: 1.0000\n",
      "Epoch 7/30\n",
      "16/16 [==============================] - 274s 17s/step - loss: 0.1410 - accuracy: 1.0000\n",
      "Epoch 8/30\n",
      "16/16 [==============================] - 281s 17s/step - loss: 0.1021 - accuracy: 1.0000\n",
      "Epoch 9/30\n",
      "16/16 [==============================] - 277s 17s/step - loss: 0.0751 - accuracy: 1.0000\n",
      "Epoch 10/30\n",
      "16/16 [==============================] - 277s 17s/step - loss: 0.0585 - accuracy: 1.0000\n",
      "Epoch 11/30\n",
      "16/16 [==============================] - 278s 17s/step - loss: 0.0516 - accuracy: 1.0000\n",
      "Epoch 12/30\n",
      "16/16 [==============================] - 279s 17s/step - loss: 0.0372 - accuracy: 1.0000\n",
      "Epoch 13/30\n",
      "16/16 [==============================] - 276s 17s/step - loss: 0.0323 - accuracy: 1.0000\n",
      "Epoch 14/30\n",
      "16/16 [==============================] - 282s 18s/step - loss: 0.0323 - accuracy: 1.0000\n",
      "Epoch 15/30\n",
      "16/16 [==============================] - 278s 17s/step - loss: 0.0245 - accuracy: 1.0000\n",
      "Epoch 16/30\n",
      "16/16 [==============================] - 281s 18s/step - loss: 0.0233 - accuracy: 1.0000\n",
      "Epoch 17/30\n",
      "16/16 [==============================] - 278s 17s/step - loss: 0.0203 - accuracy: 1.0000\n",
      "Epoch 18/30\n",
      "16/16 [==============================] - 281s 18s/step - loss: 0.0188 - accuracy: 1.0000\n",
      "Epoch 19/30\n",
      "16/16 [==============================] - 281s 17s/step - loss: 0.0174 - accuracy: 1.0000\n",
      "Epoch 20/30\n",
      "16/16 [==============================] - 283s 18s/step - loss: 0.0150 - accuracy: 1.0000\n",
      "Epoch 21/30\n",
      "16/16 [==============================] - 277s 17s/step - loss: 0.0169 - accuracy: 1.0000\n",
      "Epoch 22/30\n",
      "16/16 [==============================] - 282s 18s/step - loss: 0.0129 - accuracy: 1.0000\n",
      "Epoch 23/30\n",
      "16/16 [==============================] - 277s 17s/step - loss: 0.0137 - accuracy: 1.0000\n",
      "Epoch 24/30\n",
      "16/16 [==============================] - 275s 17s/step - loss: 0.0108 - accuracy: 1.0000\n",
      "Epoch 25/30\n",
      "16/16 [==============================] - 276s 17s/step - loss: 0.0105 - accuracy: 1.0000\n",
      "Epoch 26/30\n",
      "16/16 [==============================] - 277s 17s/step - loss: 0.0092 - accuracy: 1.0000\n",
      "Epoch 27/30\n",
      "16/16 [==============================] - 277s 17s/step - loss: 0.0090 - accuracy: 1.0000\n",
      "Epoch 28/30\n",
      "16/16 [==============================] - 282s 17s/step - loss: 0.0096 - accuracy: 1.0000\n",
      "Epoch 29/30\n",
      "16/16 [==============================] - 279s 17s/step - loss: 0.0087 - accuracy: 1.0000\n",
      "Epoch 30/30\n",
      "16/16 [==============================] - 274s 17s/step - loss: 0.0082 - accuracy: 1.0000\n"
     ]
    },
    {
     "data": {
      "text/plain": [
       "<keras.callbacks.History at 0x19ce8231af0>"
      ]
     },
     "execution_count": 17,
     "metadata": {},
     "output_type": "execute_result"
    }
   ],
   "source": [
    "model.fit(data_ds,epochs=30)"
   ]
  },
  {
   "cell_type": "code",
   "execution_count": null,
   "id": "86fb8002",
   "metadata": {},
   "outputs": [],
   "source": [
    "model.evaluate(data_ds)"
   ]
  },
  {
   "cell_type": "code",
   "execution_count": 19,
   "id": "7dc08ac8",
   "metadata": {},
   "outputs": [
    {
     "name": "stderr",
     "output_type": "stream",
     "text": [
      "C:\\Users\\LENOVO\\AppData\\Roaming\\Python\\Python39\\site-packages\\keras\\utils\\generic_utils.py:494: CustomMaskWarning: Custom mask layers require a config and must override get_config. When loading, the custom mask layer must be passed to the custom_objects argument.\n",
      "  warnings.warn('Custom mask layers require a config and must override '\n"
     ]
    }
   ],
   "source": [
    "model.save('BMW_car_multiclass.h5')"
   ]
  },
  {
   "cell_type": "code",
   "execution_count": 20,
   "id": "c833b0fd",
   "metadata": {},
   "outputs": [],
   "source": [
    "model.save_weights('model_weights')"
   ]
  }
 ],
 "metadata": {
  "kernelspec": {
   "display_name": "Python 3 (ipykernel)",
   "language": "python",
   "name": "python3"
  },
  "language_info": {
   "codemirror_mode": {
    "name": "ipython",
    "version": 3
   },
   "file_extension": ".py",
   "mimetype": "text/x-python",
   "name": "python",
   "nbconvert_exporter": "python",
   "pygments_lexer": "ipython3",
   "version": "3.9.6"
  }
 },
 "nbformat": 4,
 "nbformat_minor": 5
}
