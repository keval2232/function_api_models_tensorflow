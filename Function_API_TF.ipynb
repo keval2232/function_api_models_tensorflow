{
  "nbformat": 4,
  "nbformat_minor": 0,
  "metadata": {
    "colab": {
      "name": "Function_API_TF.ipynb",
      "provenance": [],
      "collapsed_sections": []
    },
    "kernelspec": {
      "name": "python3",
      "display_name": "Python 3"
    },
    "language_info": {
      "name": "python"
    }
  },
  "cells": [
    {
      "cell_type": "code",
      "metadata": {
        "id": "aQKIX5vGIO4q"
      },
      "source": [
        "from tensorflow.keras.layers import Input\n",
        "from tensorflow.keras.layers import Dense,Flatten\n",
        "import tensorflow as tf\n",
        "from tensorflow.keras.models import Model"
      ],
      "execution_count": 2,
      "outputs": []
    },
    {
      "cell_type": "markdown",
      "metadata": {
        "id": "Y56elu2rIIKa"
      },
      "source": [
        "<h2>Step 1 </h2>\n",
        "<h3>Input in fuctional API </h3>"
      ]
    },
    {
      "cell_type": "code",
      "metadata": {
        "id": "AQuBm_pYH-Wl"
      },
      "source": [
        "input_layer = tf.keras.Input(shape=(28, 28))"
      ],
      "execution_count": 3,
      "outputs": []
    },
    {
      "cell_type": "markdown",
      "metadata": {
        "id": "xqiZpZKgI3ci"
      },
      "source": [
        "<h2>Step 2</h2>"
      ]
    },
    {
      "cell_type": "code",
      "metadata": {
        "id": "pL_ebawJI7_q"
      },
      "source": [
        "flatten_layer = tf.keras.layers.Flatten()(input_layer)\n",
        "first_dense = tf.keras.layers.Dense(512, activation=tf.nn.relu)(flatten_layer)\n",
        "\n",
        "second_dense = tf.keras.layers.Dense(256, activation=tf.nn.relu)(first_dense)\n",
        "third_dense=tf.keras.layers.Dense(128,activation=tf.nn.relu)(second_dense)\n",
        "output_layer = tf.keras.layers.Dense(10, activation=tf.nn.softmax)(third_dense)\n",
        "func_model = Model(inputs=input_layer, outputs=output_layer)"
      ],
      "execution_count": 4,
      "outputs": []
    },
    {
      "cell_type": "code",
      "metadata": {
        "colab": {
          "base_uri": "https://localhost:8080/"
        },
        "id": "oxENnuqQhTcE",
        "outputId": "f4851a66-43f9-4c6a-8a2a-d1c7027ba060"
      },
      "source": [
        "func_model.summary()"
      ],
      "execution_count": 5,
      "outputs": [
        {
          "output_type": "stream",
          "text": [
            "Model: \"model\"\n",
            "_________________________________________________________________\n",
            "Layer (type)                 Output Shape              Param #   \n",
            "=================================================================\n",
            "input_1 (InputLayer)         [(None, 28, 28)]          0         \n",
            "_________________________________________________________________\n",
            "flatten (Flatten)            (None, 784)               0         \n",
            "_________________________________________________________________\n",
            "dense (Dense)                (None, 512)               401920    \n",
            "_________________________________________________________________\n",
            "dense_1 (Dense)              (None, 256)               131328    \n",
            "_________________________________________________________________\n",
            "dense_2 (Dense)              (None, 128)               32896     \n",
            "_________________________________________________________________\n",
            "dense_3 (Dense)              (None, 10)                1290      \n",
            "=================================================================\n",
            "Total params: 567,434\n",
            "Trainable params: 567,434\n",
            "Non-trainable params: 0\n",
            "_________________________________________________________________\n"
          ],
          "name": "stdout"
        }
      ]
    },
    {
      "cell_type": "code",
      "metadata": {
        "id": "MreExUEzhXMZ",
        "colab": {
          "base_uri": "https://localhost:8080/"
        },
        "outputId": "195217e0-e4fd-46ae-e72b-4d8ca9ba0aca"
      },
      "source": [
        "#data set\n",
        "mnist = tf.keras.datasets.fashion_mnist\n",
        "(training_images, training_labels), (test_images, test_labels) = mnist.load_data()\n",
        "training_images = training_images / 255.0\n",
        "test_images = test_images / 255.0"
      ],
      "execution_count": 6,
      "outputs": [
        {
          "output_type": "stream",
          "text": [
            "Downloading data from https://storage.googleapis.com/tensorflow/tf-keras-datasets/train-labels-idx1-ubyte.gz\n",
            "32768/29515 [=================================] - 0s 0us/step\n",
            "Downloading data from https://storage.googleapis.com/tensorflow/tf-keras-datasets/train-images-idx3-ubyte.gz\n",
            "26427392/26421880 [==============================] - 0s 0us/step\n",
            "Downloading data from https://storage.googleapis.com/tensorflow/tf-keras-datasets/t10k-labels-idx1-ubyte.gz\n",
            "8192/5148 [===============================================] - 0s 0us/step\n",
            "Downloading data from https://storage.googleapis.com/tensorflow/tf-keras-datasets/t10k-images-idx3-ubyte.gz\n",
            "4423680/4422102 [==============================] - 0s 0us/step\n"
          ],
          "name": "stdout"
        }
      ]
    },
    {
      "cell_type": "code",
      "metadata": {
        "id": "ySVovuB4hdLK"
      },
      "source": [
        "func_model.compile(optimizer=tf.optimizers.Adam(),\n",
        "                   loss='sparse_categorical_crossentropy',\n",
        "              metrics=['accuracy'])"
      ],
      "execution_count": 7,
      "outputs": []
    },
    {
      "cell_type": "code",
      "metadata": {
        "colab": {
          "base_uri": "https://localhost:8080/"
        },
        "id": "HfI8SOzZhrLR",
        "outputId": "74f9cde8-aa13-4ec8-fc02-74b608b7c39f"
      },
      "source": [
        "func_model.fit(training_images,training_labels,epochs=5)"
      ],
      "execution_count": null,
      "outputs": [
        {
          "output_type": "stream",
          "text": [
            "Epoch 1/5\n",
            "1875/1875 [==============================] - 12s 6ms/step - loss: 0.4799 - accuracy: 0.8265\n",
            "Epoch 2/5\n",
            "1875/1875 [==============================] - 11s 6ms/step - loss: 0.3624 - accuracy: 0.8676\n",
            "Epoch 3/5\n",
            "1875/1875 [==============================] - 11s 6ms/step - loss: 0.3270 - accuracy: 0.8789\n",
            "Epoch 4/5\n",
            "1875/1875 [==============================] - 11s 6ms/step - loss: 0.3014 - accuracy: 0.8892\n",
            "Epoch 5/5\n",
            " 135/1875 [=>............................] - ETA: 10s - loss: 0.2827 - accuracy: 0.8972"
          ],
          "name": "stdout"
        }
      ]
    },
    {
      "cell_type": "code",
      "metadata": {
        "colab": {
          "base_uri": "https://localhost:8080/"
        },
        "id": "2jHDP7TKiegF",
        "outputId": "4b168d71-1abd-4059-f677-91e67ce6209f"
      },
      "source": [
        "func_model.evaluate(test_images,test_labels)"
      ],
      "execution_count": null,
      "outputs": [
        {
          "output_type": "stream",
          "text": [
            "313/313 [==============================] - 1s 3ms/step - loss: 1.1142 - accuracy: 0.8936\n"
          ],
          "name": "stdout"
        },
        {
          "output_type": "execute_result",
          "data": {
            "text/plain": [
              "[1.1142419576644897, 0.8935999870300293]"
            ]
          },
          "metadata": {
            "tags": []
          },
          "execution_count": 33
        }
      ]
    }
  ]
}